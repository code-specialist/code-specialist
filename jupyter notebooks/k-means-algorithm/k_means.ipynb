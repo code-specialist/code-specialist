{
 "cells": [
  {
   "cell_type": "markdown",
   "metadata": {},
   "source": [
    "<h1>K-Means Algorithm - coding and visualization in Python</h1>\n",
    "<p>In this article we want to take a look at the k-means algorithm. The k-means algorithm is used to determine clusters. It is often the first algorithm you will see in any machine learning introduction, as it is easy to understand. We will code the algorithm in Python and also visualize it.</p>"
   ]
  },
  {
   "cell_type": "markdown",
   "metadata": {},
   "source": [
    "<h2> Imports </h2>\n",
    "<p>First of all we need some libraries. We use numpy to ease the array handling and outsource some operations to the way faster C libraries included. By convention we import numpy as np to reduce the length of the code. Next we use pyplot from matplotlib as the name let's one assume, it is used for plotting the data, or here, the pictures as they're nothing else than matrices themselves. By convention matplotlib.pyplot is imported as plt. We also need some methods of the operating system (os) and the Python built-in module math. Last but not least we use imageio to create and save the frames of our animation.</p>"
   ]
  },
  {
   "cell_type": "code",
   "execution_count": 1,
   "metadata": {},
   "outputs": [],
   "source": [
    "import numpy as np\n",
    "import matplotlib.pyplot as plt\n",
    "import math\n",
    "import imageio\n",
    "import os\n",
    "\n",
    "%matplotlib inline\n",
    "\n",
    "N_POINTS = 150 # Number of points\n",
    "N_CLUSTERS = 5 # Number of clusters\n",
    "COLORS = [\"red\", \"blue\", \"green\", \"brown\", \"purple\"] # Cluster colors"
   ]
  },
  {
   "cell_type": "markdown",
   "metadata": {},
   "source": [
    "<p>The so called magic function <i>%matplotlib inline</i> allows us to directly see plots without explicitly plotting them. We also define a few static variables respectively <i>N_POINTS</i> for the number of dots we want to display in our k-means algorithm, <i>N_CLUSTERS</i> for the number of clusters we want to use and <i>COLORS</i> for the colors of the clusters.</p>"
   ]
  },
  {
   "cell_type": "markdown",
   "metadata": {},
   "source": [
    "<h2>Point class representing a 2D point</h2>"
   ]
  },
  {
   "cell_type": "code",
   "execution_count": 2,
   "metadata": {},
   "outputs": [],
   "source": [
    "class Point:\n",
    "    \n",
    "    def __init__(self, x, y, color=\"grey\", magnitude=20):\n",
    "        # A point has a x and y coordinate, a color and a default magnitude of 20\n",
    "        self.x = x\n",
    "        self.y = y\n",
    "        self.color = color\n",
    "        self.magnitude = magnitude\n",
    "        \n",
    "    def distance_to_point(self, point):\n",
    "        # Euclidean distance\n",
    "        delta_x = self.x - point.x\n",
    "        delta_y = self.y - point.y\n",
    "        return math.sqrt(delta_x**2+delta_y**2)"
   ]
  },
  {
   "cell_type": "markdown",
   "metadata": {},
   "source": [
    "<p>Let's start by defining a class to represent a 2-dimensional point that has a simple method to determine it's distance to another point. In this case we use the euclidean distance as it describes the shortest way between two points in the defined space. The euclidean distance is merely the square root of the sum of the squared vector components and the vector between two points can be described as the difference of their x and y values.</p>"
   ]
  },
  {
   "cell_type": "markdown",
   "metadata": {},
   "source": [
    "<h2> Point list</h2>"
   ]
  },
  {
   "cell_type": "code",
   "execution_count": 3,
   "metadata": {},
   "outputs": [],
   "source": [
    "class PointList:\n",
    "    \n",
    "    def __init__(self, points:[Point]=None, marker=\"x\"):\n",
    "        if points:\n",
    "            self.points = points\n",
    "        else:\n",
    "            self.points = []\n",
    "        self.marker = marker\n",
    "    \n",
    "    def x_values(self):\n",
    "        return [point.x for point in self.points]\n",
    "    \n",
    "    def y_values(self):\n",
    "        return [point.y for point in self.points]\n",
    "    \n",
    "    def colors(self):\n",
    "        return [point.color for point in self.points]\n",
    "    \n",
    "    def marker(self):\n",
    "        return [point.marker for point in self.points]\n",
    "    \n",
    "    def magnitudes(self):\n",
    "        return [point.magnitude for point in self.points]\n",
    "        \n",
    "    def plot(self):\n",
    "        return plt.scatter(self.x_values(), self.y_values(), color=self.colors(), marker=self.marker, s=self.magnitudes(), label=\"Iteration\")\n",
    "    \n",
    "    def append(self, point):\n",
    "        self.points.append(point)\n",
    "        \n",
    "    def len(self): # implicit override\n",
    "        return len(self.points)\n",
    "    \n",
    "    def x_sum(self):\n",
    "        return sum([point.x for point in self.points])\n",
    "    \n",
    "    def y_sum(self):\n",
    "        return sum([point.y for point in self.points])\n",
    "    \n",
    "    def x_avg(self):\n",
    "        return self.x_sum()/self.len()\n",
    "    \n",
    "    def y_avg(self):\n",
    "        return self.y_sum()/self.len()\n",
    "    \n",
    "    def difference(self, points):\n",
    "        return sum([own_point.x - list_point.x+ own_point.y - list_point.y for own_point, list_point in zip(self.points, points.points)])"
   ]
  },
  {
   "cell_type": "markdown",
   "metadata": {},
   "source": [
    "<p>Lets define a list that has some basic features regarding the points. To ease things the list should be able to store and return color, marker type and magnitude, as well as a generalized scatter plot and simple arithmetic operations</p>"
   ]
  },
  {
   "cell_type": "markdown",
   "metadata": {},
   "source": [
    "<h2>Random points function</h2>"
   ]
  },
  {
   "cell_type": "code",
   "execution_count": 4,
   "metadata": {},
   "outputs": [],
   "source": [
    "def random_point(**kwargs):\n",
    "    x = np.random.rand(1) # Create a random value between 0 and 1\n",
    "    y = np.random.rand(1)\n",
    "    return Point(x, y, **kwargs) # Return a Point object and proxy the optional keyword args into"
   ]
  },
  {
   "cell_type": "markdown",
   "metadata": {},
   "source": [
    "<p>As we don't have any actual data, we will randomly generate x and y coordinates that will then be returned as a point instance</p>"
   ]
  },
  {
   "cell_type": "code",
   "execution_count": 5,
   "metadata": {},
   "outputs": [],
   "source": [
    "def random_points(n):\n",
    "    points = [random_point() for _ in range(n)] \n",
    "    # List comprehension to call the function n times and save the result in a list\n",
    "    return PointList(points)"
   ]
  },
  {
   "cell_type": "markdown",
   "metadata": {},
   "source": [
    "<p>To speed things up a bit we use a function that returns a PointList of n points instead of single points</p>"
   ]
  },
  {
   "cell_type": "markdown",
   "metadata": {},
   "source": [
    "## Create random points and plot them"
   ]
  },
  {
   "cell_type": "code",
   "execution_count": 6,
   "metadata": {},
   "outputs": [],
   "source": [
    "points = random_points(N_POINTS) # N_Points is defined at the top"
   ]
  },
  {
   "cell_type": "code",
   "execution_count": 7,
   "metadata": {},
   "outputs": [
    {
     "data": {
      "text/plain": [
       "<matplotlib.collections.PathCollection at 0x7ffabe166c70>"
      ]
     },
     "execution_count": 7,
     "metadata": {},
     "output_type": "execute_result"
    },
    {
     "data": {
      "image/png": "[encoded data removed]",
      "text/plain": [
       "<Figure size 432x288 with 1 Axes>"
      ]
     },
     "metadata": {
      "needs_background": "light"
     },
     "output_type": "display_data"
    }
   ],
   "source": [
    "points.plot() # Call the list function to plot the points"
   ]
  },
  {
   "cell_type": "markdown",
   "metadata": {},
   "source": [
    "<p>Now that we have objects to store the data and functions to create them, we can visualize the created set of points by calling the lists plot function. Due to the magic function at the beginning we don't have to use the pyplot function show, if you use an IDE you might have to add <pre>plt.show()</pre></p>"
   ]
  },
  {
   "cell_type": "markdown",
   "metadata": {},
   "source": [
    "<h2>Random cluster centres function</h2>"
   ]
  },
  {
   "cell_type": "code",
   "execution_count": 8,
   "metadata": {},
   "outputs": [],
   "source": [
    "def cluster_centres(k, colors):\n",
    "    centres = list()\n",
    "    for color in colors: # Iterate over the colors list\n",
    "        centres.append(random_point(color=color, magnitude=150)) # Create a random point\n",
    "    centres = PointList(centres, marker=\"*\") # Save the * marker to the list \n",
    "    return centres # Return a PointList of the random centres"
   ]
  },
  {
   "cell_type": "markdown",
   "metadata": {},
   "source": [
    "<p>Next we define a cluster centre function, that will also generate a random point but with a different color, magnitude and marker. <b>NOTE:</b> The code isn't ideal and I wouldn't use it in a productive project, the marker attribute should belong to the point not the list.</p>"
   ]
  },
  {
   "cell_type": "code",
   "execution_count": 9,
   "metadata": {},
   "outputs": [],
   "source": [
    "centres = cluster_centres(k=N_CLUSTERS, colors=COLORS) \n",
    "# Call the function defined above with the static variables"
   ]
  },
  {
   "cell_type": "markdown",
   "metadata": {},
   "source": [
    "<h2>Plot points and centres</h2>"
   ]
  },
  {
   "cell_type": "code",
   "execution_count": 10,
   "metadata": {},
   "outputs": [
    {
     "data": {
      "image/png": "[encoded data removed]",
      "text/plain": [
       "<Figure size 432x288 with 1 Axes>"
      ]
     },
     "metadata": {
      "needs_background": "light"
     },
     "output_type": "display_data"
    }
   ],
   "source": [
    "frames = list() # List of frame paths that should be combined to create the gif\n",
    "\n",
    "points.plot() # Plot the points\n",
    "centres.plot() # Plot the Cluster centres\n",
    "plt.title(\"Initialization\") # Title for the first frame\n",
    "filename =os.path.join(os.getcwd(), \"animation\", f\"frame0.png\") # Filename to save the file to\n",
    "plt.savefig(filename) # Pyplot save function to save the frame as image\n",
    "\n",
    "frames.append(filename) # Append the filename to the frames list"
   ]
  },
  {
   "cell_type": "markdown",
   "metadata": {},
   "source": [
    "## Cluster points function"
   ]
  },
  {
   "cell_type": "code",
   "execution_count": 11,
   "metadata": {},
   "outputs": [],
   "source": [
    "def cluster_points(points, centres):\n",
    "    points =  points.points # Reduces the complexity of the code\n",
    "    centres = centres.points\n",
    "    clusters = list([PointList() for _ in range(len(centres))]) # Create as many lists as there are centres, as\n",
    "    # each point will belong to a single cluster\n",
    "    for point in points: # Iterate over the points\n",
    "        distances = [point.distance_to_point(centre) for centre in centres] \n",
    "        # List comprehension to determine the distance from a point to each centre\n",
    "        min_distance = min(distances) # Get the value of the shortest distance\n",
    "        centre_index = distances.index(min_distance) # Get the index that belongs to that value\n",
    "        centre = centres[centre_index] # The centre that is closest to the point is described by the index value\n",
    "        clusters[centre_index].append(point) # Append the point to the list that belongs to that clusters\n",
    "        point.color = centre.color # Recolor the point in the color of the cluster centre for visualization\n",
    "    return clusters # Returns as many lists as there are cluster centres, each cluster represents all points\n",
    "    # closest to the specific cluster centre"
   ]
  },
  {
   "cell_type": "markdown",
   "metadata": {},
   "source": [
    "<p>As described in the code above, we need to cluster the points based on their distance to the closest centre.</p>"
   ]
  },
  {
   "cell_type": "markdown",
   "metadata": {},
   "source": [
    "## Calculate mid of clusters"
   ]
  },
  {
   "cell_type": "code",
   "execution_count": 12,
   "metadata": {},
   "outputs": [],
   "source": [
    "def calculate_new_centres(clusters):\n",
    "    new_centres = PointList(marker=\"*\") # Create a PointList of centres\n",
    "    for cluster in clusters: # Iterate over centres\n",
    "        x_avg = cluster.x_avg() # Get average x value of all points in the cluster\n",
    "        y_avg = cluster.y_avg() # Get average y value of all points in the cluster\n",
    "        new_centres.append(Point(x=x_avg, y=y_avg, color=cluster.colors()[0], magnitude=150)) \n",
    "        # Add the new centres to the PointList \n",
    "    return new_centres # Returns as many centres as initially provided"
   ]
  },
  {
   "cell_type": "markdown",
   "metadata": {},
   "source": [
    "<p>After assigning each point to a cluster we have to recalculate the position of the centre. The centre should be exactly in the centre of all points that belong to the cluster.</p>"
   ]
  },
  {
   "cell_type": "markdown",
   "metadata": {},
   "source": [
    "<h2>Testing</h2>"
   ]
  },
  {
   "cell_type": "code",
   "execution_count": 13,
   "metadata": {},
   "outputs": [
    {
     "data": {
      "text/plain": [
       "<matplotlib.collections.PathCollection at 0x7ffabc045ac0>"
      ]
     },
     "execution_count": 13,
     "metadata": {},
     "output_type": "execute_result"
    },
    {
     "data": {
      "image/png": "[encoded data removed]",
      "text/plain": [
       "<Figure size 432x288 with 1 Axes>"
      ]
     },
     "metadata": {
      "needs_background": "light"
     },
     "output_type": "display_data"
    }
   ],
   "source": [
    "clusters = cluster_points(points, centres)\n",
    "points.plot()\n",
    "centres.plot()"
   ]
  },
  {
   "cell_type": "markdown",
   "metadata": {},
   "source": [
    "<p>If everything went as desired, we now get the picture of the k-means algorithm before the centres get rebalanced for the first time, but with the points already clustered in place</p>"
   ]
  },
  {
   "cell_type": "markdown",
   "metadata": {},
   "source": [
    "<h2>The k-means algorithm steps</h2>"
   ]
  },
  {
   "cell_type": "code",
   "execution_count": 14,
   "metadata": {
    "scrolled": false
   },
   "outputs": [],
   "source": [
    "epsilon = 0.1E-19 # Allowed difference to be cointed as zero, to avoid numerical issues based on binary numbers\n",
    "difference = 1 # Initial difference of the clusters between an iteration\n",
    "n = 1 # Step variable, is 1 as we already generated the initial frame\n",
    "\n",
    "while abs(difference) >= 0 + epsilon: \n",
    "    # If the difference between the current cluster position and the position in the iteration before is \n",
    "    # (close to) zero, the algorithm has finished\n",
    "    new_clusters = cluster_points(points, centres) # Calculate the new clusters based on the current centres\n",
    "    new_centres = calculate_new_centres(new_clusters) # Calculate the new centres based on the clusters\n",
    "    difference = new_centres.difference(centres) \n",
    "    # Evaluate the difference between the centre positions before and after\n",
    "    \n",
    "    # Animation\n",
    "    points.plot() # Plot points with the PlotList.plot() function\n",
    "    centres.plot()\n",
    "    plt.title(f'Iteration {n}') # Set the Plot title, based on the current iteration\n",
    "    filename =os.path.join(os.getcwd(), \"animation\", f\"frame{n}.png\") \n",
    "    # Create a filename the frame should be saved to\n",
    "    plt.savefig(filename) # Save image\n",
    "    frames.append(filename) # Append filename to frames\n",
    "    plt.close() # Ensure we clear the main memory reserved to that plot\n",
    "    # /Animation\n",
    "    \n",
    "    centres = new_centres # Exchange the old centres by the new ones\n",
    "    n+=1 # Increase the step counter"
   ]
  },
  {
   "cell_type": "markdown",
   "metadata": {},
   "source": [
    "<p><b>NOTE:</b> This isn't the full algorithm, this is merely the part that happend after the intiailization</p>"
   ]
  },
  {
   "cell_type": "markdown",
   "metadata": {},
   "source": [
    "<h2>Create Animation from frames</h2>"
   ]
  },
  {
   "cell_type": "code",
   "execution_count": 15,
   "metadata": {},
   "outputs": [],
   "source": [
    "with imageio.get_writer('animation/animation.gif', mode='I', duration=0.7) as writer: \n",
    "    # Open an imageio writer with a given filename and the stream mode (I), set the duration for each frame to\n",
    "    # 0.7 seconds\n",
    "    for frame in frames: # Iterate over the filenames\n",
    "        image = imageio.imread(frame) # Load the image\n",
    "        writer.append_data(image) # Write the image to the stream"
   ]
  },
  {
   "cell_type": "markdown",
   "metadata": {},
   "source": [
    "<img src=\"https://github.com/code-specialist/code-specialist/blob/master/jupyter%20notebooks/k-means-algorithm/animation/animation.gif\"/>"
   ]
  },
  {
   "cell_type": "markdown",
   "metadata": {},
   "source": [
    "<p><b>NOTE:</b> The gif has been loaded as HTML: <code>&lt;img src=\"animation/animation.gif\"/&gt;</code></p>"
   ]
  },
  {
   "cell_type": "markdown",
   "metadata": {},
   "source": [
    "<h2>Closing</h2>\n",
    "<p>I hope you enjoyed this kind of blog post format and we're able to reproduce the animation as expected. If you run into any issues or need further help, don't hesitate to contact us via the comment or contact form!</p>"
   ]
  }
 ],
 "metadata": {
  "kernelspec": {
   "display_name": "Python 3",
   "language": "python",
   "name": "python3"
  },
  "language_info": {
   "codemirror_mode": {
    "name": "ipython",
    "version": 3
   },
   "file_extension": ".py",
   "mimetype": "text/x-python",
   "name": "python",
   "nbconvert_exporter": "python",
   "pygments_lexer": "ipython3",
   "version": "3.8.5"
  },
  "varInspector": {
   "cols": {
    "lenName": 16,
    "lenType": 16,
    "lenVar": 40
   },
   "kernels_config": {
    "python": {
     "delete_cmd_postfix": "",
     "delete_cmd_prefix": "del ",
     "library": "var_list.py",
     "varRefreshCmd": "print(var_dic_list())"
    },
    "r": {
     "delete_cmd_postfix": ") ",
     "delete_cmd_prefix": "rm(",
     "library": "var_list.r",
     "varRefreshCmd": "cat(var_dic_list()) "
    }
   },
   "types_to_exclude": [
    "module",
    "function",
    "builtin_function_or_method",
    "instance",
    "_Feature"
   ],
   "window_display": false
  }
 },
 "nbformat": 4,
 "nbformat_minor": 4
}
